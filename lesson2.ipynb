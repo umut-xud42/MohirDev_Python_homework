{
 "cells": [
  {
   "cell_type": "markdown",
   "id": "6a78084e",
   "metadata": {},
   "source": [
    "1\n"
   ]
  },
  {
   "cell_type": "code",
   "execution_count": 1,
   "id": "0d54075d",
   "metadata": {},
   "outputs": [
    {
     "name": "stdout",
     "output_type": "stream",
     "text": [
      "45 ning kvadrati 2025 ga teng\n"
     ]
    }
   ],
   "source": [
    "a=int(input(\"biror son kiriting: \"))\n",
    "print(f\"{a} ning kvadrati {a**2} ga teng\")"
   ]
  },
  {
   "cell_type": "markdown",
   "id": "275d1274",
   "metadata": {},
   "source": [
    "2"
   ]
  },
  {
   "cell_type": "code",
   "execution_count": 2,
   "id": "86be5dca",
   "metadata": {},
   "outputs": [
    {
     "name": "stdout",
     "output_type": "stream",
     "text": [
      "you were born in 2004\n"
     ]
    }
   ],
   "source": [
    "age=int(input(\"how old are you: \"))\n",
    "print(f\"you were born in {2025-age}\")"
   ]
  },
  {
   "cell_type": "markdown",
   "id": "6074d1bb",
   "metadata": {},
   "source": [
    "3"
   ]
  },
  {
   "cell_type": "code",
   "execution_count": null,
   "id": "8ca037a2",
   "metadata": {},
   "outputs": [
    {
     "name": "stdout",
     "output_type": "stream",
     "text": [
      "addition: 15\n",
      "substraction: 5\n",
      "division: 2\n",
      "multiplication: 50\n"
     ]
    }
   ],
   "source": [
    "x=int(input(\"first number: \"))\n",
    "y=int(input(\"second number: \"))\n",
    "\n",
    "print(\"addition:\", x+y)\n",
    "print(\"substraction:\", x-y)\n",
    "print(\"division:\", x/y)\n",
    "print(\"multiplication:\", x*y)"
   ]
  }
 ],
 "metadata": {
  "kernelspec": {
   "display_name": "Python 3",
   "language": "python",
   "name": "python3"
  },
  "language_info": {
   "codemirror_mode": {
    "name": "ipython",
    "version": 3
   },
   "file_extension": ".py",
   "mimetype": "text/x-python",
   "name": "python",
   "nbconvert_exporter": "python",
   "pygments_lexer": "ipython3",
   "version": "3.13.5"
  }
 },
 "nbformat": 4,
 "nbformat_minor": 5
}

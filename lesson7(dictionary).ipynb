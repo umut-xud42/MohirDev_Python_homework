{
 "cells": [
  {
   "cell_type": "markdown",
   "id": "dce36634",
   "metadata": {},
   "source": [
    "Dictionary practices"
   ]
  },
  {
   "cell_type": "markdown",
   "id": "c701f11d",
   "metadata": {},
   "source": [
    "1"
   ]
  },
  {
   "cell_type": "code",
   "execution_count": 6,
   "id": "9b423c90",
   "metadata": {},
   "outputs": [
    {
     "name": "stdout",
     "output_type": "stream",
     "text": [
      "my father's name is Rustam and he is 57 years old.\n",
      "Also,he works as doctor in Xorazm region\n"
     ]
    }
   ],
   "source": [
    "father={\"name\": \"Rustam\", \"age\": 57, \"region\": \"Xorazm\", \"job\": \"doctor\"}\n",
    "name=father[\"name\"]\n",
    "age=father[\"age\"]\n",
    "region=father[\"region\"]\n",
    "job=father[\"job\"]\n",
    "\n",
    "print(f\"my father's name is {name} and he is {age} years old.\\nAlso,he works as {job} in {region} region\")"
   ]
  },
  {
   "cell_type": "markdown",
   "id": "923b18b7",
   "metadata": {},
   "source": [
    "2"
   ]
  },
  {
   "cell_type": "code",
   "execution_count": 8,
   "id": "24cd8751",
   "metadata": {},
   "outputs": [
    {
     "name": "stdout",
     "output_type": "stream",
     "text": [
      "Rustamning sevimli ovqati osh\n",
      "Nuquljoning sevimli ovqati Galubsi\n",
      "Maryamjonning sevimli ovqati sut burunch\n"
     ]
    }
   ],
   "source": [
    "foods={\"Rustam\":\"osh\", \"Nuquljon\": \"Galubsi\", \"Hamida\": \"Kabob\", \"Charos\": \"Sho'rva\", \"Maryamjon\": \"sut burunch\"}\n",
    "Rustam=foods[\"Rustam\"]\n",
    "Nuquljon=foods[\"Nuquljon\"]\n",
    "Maryamjon=foods[\"Maryamjon\"]\n",
    "\n",
    "print(f\"Rustamning sevimli ovqati {Rustam}\")\n",
    "print(f\"Nuquljoning sevimli ovqati {Nuquljon}\")\n",
    "print(f\"Maryamjonning sevimli ovqati {Maryamjon}\")"
   ]
  },
  {
   "cell_type": "markdown",
   "id": "e4cc8ccd",
   "metadata": {},
   "source": [
    "3"
   ]
  },
  {
   "cell_type": "code",
   "execution_count": null,
   "id": "0380f644",
   "metadata": {},
   "outputs": [
    {
     "name": "stdout",
     "output_type": "stream",
     "text": [
      "ro'yxat\n"
     ]
    }
   ],
   "source": [
    "python={\"If\": \"agar\",\n",
    "        \"int\": \"butun son\",\n",
    "        \"float\": \"kasr son\",\n",
    "        \"list\": \"ro'yxat\",\n",
    "        \"tuple\": \"o'zgarmas qiymat\",\n",
    "        \"dictionary\": \"lug'at\"\n",
    "       }\n",
    "\n",
    "txt=input(\"Enter key word in python: \").lower()\n",
    "print(python.get(txt, \"this kind of word doesn't exist!\"))"
   ]
  },
  {
   "cell_type": "markdown",
   "id": "73c15b8e",
   "metadata": {},
   "source": [
    "4"
   ]
  },
  {
   "cell_type": "code",
   "execution_count": 21,
   "id": "403d8af8",
   "metadata": {},
   "outputs": [
    {
     "name": "stdout",
     "output_type": "stream",
     "text": [
      "this kind of enlish word doesn't exist!\n"
     ]
    }
   ],
   "source": [
    "Translater={\"apple\": \"olma\", \"friend\": \"do'st\", \n",
    "            \"hotel\": \"mehmonxona\", \"bike\": \"velosiped\",\n",
    "            \"gun\": \"miltiq\", \"ball\": \"to'p\"}\n",
    "\n",
    "message=input(\"enter any english word: \").lower()\n",
    "print(Translater.get(message,\"this kind of enlish word doesn't exist!\" ))"
   ]
  },
  {
   "cell_type": "markdown",
   "id": "c4d75888",
   "metadata": {},
   "source": [
    "5"
   ]
  },
  {
   "cell_type": "code",
   "execution_count": 24,
   "id": "faa4d796",
   "metadata": {},
   "outputs": [
    {
     "name": "stdout",
     "output_type": "stream",
     "text": [
      "this word doesn't exist!\n"
     ]
    }
   ],
   "source": [
    "Translater={\"apple\": \"olma\", \"friend\": \"do'st\", \n",
    "            \"hotel\": \"mehmonxona\", \"bike\": \"velosiped\",\n",
    "            \"gun\": \"miltiq\", \"ball\": \"to'p\"}\n",
    "\n",
    "\n",
    "\n",
    "message=input(\"enter any english word: \").lower()\n",
    "translation=Translater.get(message)\n",
    "if translation==None:\n",
    "    print(\"this word doesn't exist!\")\n",
    "else:\n",
    "    print(f\"Translation of {message} is {translation}\")"
   ]
  }
 ],
 "metadata": {
  "kernelspec": {
   "display_name": "Python 3",
   "language": "python",
   "name": "python3"
  },
  "language_info": {
   "codemirror_mode": {
    "name": "ipython",
    "version": 3
   },
   "file_extension": ".py",
   "mimetype": "text/x-python",
   "name": "python",
   "nbconvert_exporter": "python",
   "pygments_lexer": "ipython3",
   "version": "3.13.5"
  }
 },
 "nbformat": 4,
 "nbformat_minor": 5
}

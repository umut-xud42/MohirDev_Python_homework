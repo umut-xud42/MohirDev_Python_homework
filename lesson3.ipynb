{
 "cells": [
  {
   "cell_type": "markdown",
   "id": "474c0125",
   "metadata": {},
   "source": [
    "1\n"
   ]
  },
  {
   "cell_type": "code",
   "execution_count": 3,
   "id": "71b42ae1",
   "metadata": {},
   "outputs": [
    {
     "name": "stdout",
     "output_type": "stream",
     "text": [
      "['Canada', 'Uzbekistan', 'USA', 'England', 'Azarbayjon']\n"
     ]
    }
   ],
   "source": [
    "ls=[\"Canada\", \"Uzbekistan\", \"USA\", \"England\", \"Azarbayjon\"]\n",
    "print(ls)"
   ]
  },
  {
   "cell_type": "markdown",
   "id": "26687402",
   "metadata": {},
   "source": [
    "2"
   ]
  },
  {
   "cell_type": "code",
   "execution_count": 2,
   "id": "210dfa58",
   "metadata": {},
   "outputs": [
    {
     "name": "stdout",
     "output_type": "stream",
     "text": [
      "5\n"
     ]
    }
   ],
   "source": [
    "ls=[\"Canada\", \"Uzbekistan\", \"USA\", \"England\", \"Azarbayjon\"]\n",
    "print(len(ls))"
   ]
  },
  {
   "cell_type": "markdown",
   "id": "cedc805e",
   "metadata": {},
   "source": [
    "3"
   ]
  },
  {
   "cell_type": "code",
   "execution_count": 6,
   "id": "bd56e275",
   "metadata": {},
   "outputs": [
    {
     "name": "stdout",
     "output_type": "stream",
     "text": [
      "['Azarbayjon', 'Canada', 'England', 'USA', 'Uzbekistan']\n"
     ]
    }
   ],
   "source": [
    "ls=[\"Canada\", \"Uzbekistan\", \"USA\", \"England\", \"Azarbayjon\"]\n",
    "print(sorted(ls))"
   ]
  },
  {
   "cell_type": "markdown",
   "id": "1676c7d4",
   "metadata": {},
   "source": [
    "4"
   ]
  },
  {
   "cell_type": "code",
   "execution_count": 7,
   "id": "6199047a",
   "metadata": {},
   "outputs": [
    {
     "name": "stdout",
     "output_type": "stream",
     "text": [
      "['Uzbekistan', 'USA', 'England', 'Canada', 'Azarbayjon']\n"
     ]
    }
   ],
   "source": [
    "ls=[\"Canada\", \"Uzbekistan\", \"USA\", \"England\", \"Azarbayjon\"]\n",
    "print(sorted(ls, reverse=True))"
   ]
  },
  {
   "cell_type": "markdown",
   "id": "9d893c13",
   "metadata": {},
   "source": [
    "5"
   ]
  },
  {
   "cell_type": "code",
   "execution_count": 8,
   "id": "06121c98",
   "metadata": {},
   "outputs": [
    {
     "name": "stdout",
     "output_type": "stream",
     "text": [
      "['Canada', 'Uzbekistan', 'USA', 'England', 'Azarbayjon']\n"
     ]
    }
   ],
   "source": [
    "ls=[\"Canada\", \"Uzbekistan\", \"USA\", \"England\", \"Azarbayjon\"]\n",
    "print(ls)"
   ]
  },
  {
   "cell_type": "markdown",
   "id": "6dbaa46b",
   "metadata": {},
   "source": [
    "6"
   ]
  },
  {
   "cell_type": "code",
   "execution_count": 13,
   "id": "c390cf87",
   "metadata": {},
   "outputs": [
    {
     "name": "stdout",
     "output_type": "stream",
     "text": [
      "['Azarbayjon', 'England', 'USA', 'Uzbekistan', 'Canada']\n"
     ]
    }
   ],
   "source": [
    "ls=[\"Canada\", \"Uzbekistan\", \"USA\", \"England\", \"Azarbayjon\"]\n",
    "ls.reverse()\n",
    "print(ls)"
   ]
  },
  {
   "cell_type": "markdown",
   "id": "6cc6e133",
   "metadata": {},
   "source": [
    "7"
   ]
  },
  {
   "cell_type": "code",
   "execution_count": 16,
   "id": "ea986a9f",
   "metadata": {},
   "outputs": [
    {
     "name": "stdout",
     "output_type": "stream",
     "text": [
      "['Azarbayjon', 'Canada', 'England', 'USA', 'Uzbekistan']\n"
     ]
    }
   ],
   "source": [
    "ls=[\"Canada\", \"Uzbekistan\", \"USA\", \"England\", \"Azarbayjon\"]\n",
    "ls.sort()\n",
    "print(ls)"
   ]
  },
  {
   "cell_type": "markdown",
   "id": "f81e497f",
   "metadata": {},
   "source": [
    "8"
   ]
  },
  {
   "cell_type": "code",
   "execution_count": 19,
   "id": "51cfd442",
   "metadata": {},
   "outputs": [
    {
     "name": "stdout",
     "output_type": "stream",
     "text": [
      "[120, 122, 124, 126, 128, 130, 132, 134, 136, 138, 140, 142, 144, 146, 148, 150, 152, 154, 156, 158, 160, 162, 164, 166, 168, 170, 172, 174, 176, 178, 180, 182, 184, 186, 188, 190, 192, 194, 196, 198, 200, 202, 204, 206, 208, 210, 212, 214, 216, 218, 220, 222, 224, 226, 228, 230, 232, 234, 236, 238, 240, 242, 244, 246, 248, 250, 252, 254, 256, 258, 260, 262, 264, 266, 268, 270, 272, 274, 276, 278, 280, 282, 284, 286, 288, 290, 292, 294, 296, 298, 300, 302, 304, 306, 308, 310, 312, 314, 316, 318, 320, 322, 324, 326, 328, 330, 332, 334, 336, 338, 340, 342, 344, 346, 348, 350, 352, 354, 356, 358, 360, 362, 364, 366, 368, 370, 372, 374, 376, 378, 380, 382, 384, 386, 388, 390, 392, 394, 396, 398, 400, 402, 404, 406, 408, 410, 412, 414, 416, 418, 420, 422, 424, 426, 428, 430, 432, 434, 436, 438, 440, 442, 444, 446, 448, 450, 452, 454, 456, 458, 460, 462, 464, 466, 468, 470, 472, 474, 476, 478, 480, 482, 484, 486, 488, 490, 492, 494, 496, 498, 500, 502, 504, 506, 508, 510, 512, 514, 516, 518, 520, 522, 524, 526, 528, 530, 532, 534, 536, 538, 540, 542, 544, 546, 548, 550, 552, 554, 556, 558, 560, 562, 564, 566, 568, 570, 572, 574, 576, 578, 580, 582, 584, 586, 588, 590, 592, 594, 596, 598, 600, 602, 604, 606, 608, 610, 612, 614, 616, 618, 620, 622, 624, 626, 628, 630, 632, 634, 636, 638, 640, 642, 644, 646, 648, 650, 652, 654, 656, 658, 660, 662, 664, 666, 668, 670, 672, 674, 676, 678, 680, 682, 684, 686, 688, 690, 692, 694, 696, 698, 700, 702, 704, 706, 708, 710, 712, 714, 716, 718, 720, 722, 724, 726, 728, 730, 732, 734, 736, 738, 740, 742, 744, 746, 748, 750, 752, 754, 756, 758, 760, 762, 764, 766, 768, 770, 772, 774, 776, 778, 780, 782, 784, 786, 788, 790, 792, 794, 796, 798, 800, 802, 804, 806, 808, 810, 812, 814, 816, 818, 820, 822, 824, 826, 828, 830, 832, 834, 836, 838, 840, 842, 844, 846, 848, 850, 852, 854, 856, 858, 860, 862, 864, 866, 868, 870, 872, 874, 876, 878, 880, 882, 884, 886, 888, 890, 892, 894, 896, 898, 900, 902, 904, 906, 908, 910, 912, 914, 916, 918, 920, 922, 924, 926, 928, 930, 932, 934, 936, 938, 940, 942, 944, 946, 948, 950, 952, 954, 956, 958, 960, 962, 964, 966, 968, 970, 972, 974, 976, 978, 980, 982, 984, 986, 988, 990, 992, 994, 996, 998, 1000, 1002, 1004, 1006, 1008, 1010, 1012, 1014, 1016, 1018, 1020, 1022, 1024, 1026, 1028, 1030, 1032, 1034, 1036, 1038, 1040, 1042, 1044, 1046, 1048, 1050, 1052, 1054, 1056, 1058, 1060, 1062, 1064, 1066, 1068, 1070, 1072, 1074, 1076, 1078, 1080, 1082, 1084, 1086, 1088, 1090, 1092, 1094, 1096, 1098, 1100, 1102, 1104, 1106, 1108, 1110, 1112, 1114, 1116, 1118, 1120, 1122, 1124, 1126, 1128, 1130, 1132, 1134, 1136, 1138, 1140, 1142, 1144, 1146, 1148, 1150, 1152, 1154, 1156, 1158, 1160, 1162, 1164, 1166, 1168, 1170, 1172, 1174, 1176, 1178, 1180, 1182, 1184, 1186, 1188, 1190, 1192, 1194, 1196, 1198, 1200]\n"
     ]
    }
   ],
   "source": [
    "print(list(range(120,1201,2)))"
   ]
  },
  {
   "cell_type": "markdown",
   "id": "0ffe7b58",
   "metadata": {},
   "source": [
    "9"
   ]
  },
  {
   "cell_type": "code",
   "execution_count": 32,
   "id": "d6f14dde",
   "metadata": {},
   "outputs": [
    {
     "data": {
      "text/plain": [
       "4950"
      ]
     },
     "execution_count": 32,
     "metadata": {},
     "output_type": "execute_result"
    }
   ],
   "source": [
    "a=range(100)\n",
    "sum(a)"
   ]
  },
  {
   "cell_type": "markdown",
   "id": "83854c7d",
   "metadata": {},
   "source": [
    "10"
   ]
  },
  {
   "cell_type": "code",
   "execution_count": 33,
   "id": "94f4ca74",
   "metadata": {},
   "outputs": [
    {
     "name": "stdout",
     "output_type": "stream",
     "text": [
      "98\n"
     ]
    }
   ],
   "source": [
    "a=range(1,100)\n",
    "x=max(a)\n",
    "y=min(a)\n",
    "print(x-y) "
   ]
  },
  {
   "cell_type": "markdown",
   "id": "6e03a9d6",
   "metadata": {},
   "source": [
    "11"
   ]
  },
  {
   "cell_type": "code",
   "execution_count": 41,
   "id": "32cd5be0",
   "metadata": {},
   "outputs": [
    {
     "name": "stdout",
     "output_type": "stream",
     "text": [
      "99\n"
     ]
    }
   ],
   "source": [
    "a=list(range(1,100))\n",
    "print(len(a))"
   ]
  },
  {
   "cell_type": "markdown",
   "id": "87cb8158",
   "metadata": {},
   "source": [
    "12"
   ]
  },
  {
   "cell_type": "code",
   "execution_count": 44,
   "id": "ee9267e4",
   "metadata": {},
   "outputs": [
    {
     "name": "stdout",
     "output_type": "stream",
     "text": [
      "1\n",
      "33\n",
      "99\n"
     ]
    }
   ],
   "source": [
    "num=list(range(1,100))\n",
    "print(num[0])\n",
    "print(num[32])\n",
    "print(num[98])\n"
   ]
  },
  {
   "cell_type": "markdown",
   "id": "10445924",
   "metadata": {},
   "source": [
    "13"
   ]
  },
  {
   "cell_type": "code",
   "execution_count": 52,
   "id": "eed95174",
   "metadata": {},
   "outputs": [
    {
     "data": {
      "text/plain": [
       "['osh', 'manti', 'lagmon', \"sho'rva\"]"
      ]
     },
     "execution_count": 52,
     "metadata": {},
     "output_type": "execute_result"
    }
   ],
   "source": [
    "meals=['osh', 'manti', 'lagmon', 'sho\\'rva']\n",
    "breakfast=list(meals)\n",
    "breakfast"
   ]
  },
  {
   "cell_type": "markdown",
   "id": "e7f26c20",
   "metadata": {},
   "source": [
    "14"
   ]
  },
  {
   "cell_type": "code",
   "execution_count": 54,
   "id": "61676192",
   "metadata": {},
   "outputs": [
    {
     "name": "stdout",
     "output_type": "stream",
     "text": [
      "ONLY FOR BREAKFAST:\n"
     ]
    },
    {
     "data": {
      "text/plain": [
       "['osh']"
      ]
     },
     "execution_count": 54,
     "metadata": {},
     "output_type": "execute_result"
    }
   ],
   "source": [
    "meals=['osh', 'manti', 'lagmon', 'sho\\'rva']\n",
    "meals.remove('manti')\n",
    "meals.remove('lagmon')\n",
    "meals.remove('sho\\'rva')\n",
    "print(\"\"\"ONLY FOR BREAKFAST:\"\"\")\n",
    "meals"
   ]
  },
  {
   "cell_type": "markdown",
   "id": "e88cb1c9",
   "metadata": {},
   "source": [
    "15"
   ]
  },
  {
   "cell_type": "code",
   "execution_count": 60,
   "id": "0d97750a",
   "metadata": {},
   "outputs": [
    {
     "data": {
      "text/plain": [
       "('osh', 'manti', 'lagmon', \"sho'rva\", 'qaymoq va non')"
      ]
     },
     "execution_count": 60,
     "metadata": {},
     "output_type": "execute_result"
    }
   ],
   "source": [
    "d=tuple(breakfast)\n",
    "breakfast.append(\"qaymoq va non\")\n",
    "d"
   ]
  }
 ],
 "metadata": {
  "kernelspec": {
   "display_name": "Python 3",
   "language": "python",
   "name": "python3"
  },
  "language_info": {
   "codemirror_mode": {
    "name": "ipython",
    "version": 3
   },
   "file_extension": ".py",
   "mimetype": "text/x-python",
   "name": "python",
   "nbconvert_exporter": "python",
   "pygments_lexer": "ipython3",
   "version": "3.13.5"
  }
 },
 "nbformat": 4,
 "nbformat_minor": 5
}

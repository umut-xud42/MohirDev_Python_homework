{
 "cells": [
  {
   "cell_type": "markdown",
   "id": "b46b5684",
   "metadata": {},
   "source": [
    "1\n"
   ]
  },
  {
   "cell_type": "code",
   "execution_count": null,
   "id": "16fc65d8",
   "metadata": {},
   "outputs": [
    {
     "name": "stdout",
     "output_type": "stream",
     "text": [
      "Salom! Rustam va Siz 57-yoshdasiz...\n"
     ]
    }
   ],
   "source": [
    "a=input(\"Ismingiz nima: \")\n",
    "b=int(input(\"Yilingiz nechchada: \"))\n",
    "print(f\"Salom! {a} va Siz {2025-b} yoshdasiz...\")\n"
   ]
  },
  {
   "cell_type": "markdown",
   "id": "1fcc57de",
   "metadata": {},
   "source": [
    "2"
   ]
  },
  {
   "cell_type": "code",
   "execution_count": 17,
   "id": "b7ea825f",
   "metadata": {},
   "outputs": [
    {
     "name": "stdout",
     "output_type": "stream",
     "text": [
      "Toyota\n",
      "Mazda\n",
      "Hyundai\n",
      "GM\n",
      "Kia\n"
     ]
    }
   ],
   "source": [
    "cars = ['toyota', 'mazda', 'hyundai', 'gm', 'kia']\n",
    "for car in cars:\n",
    "    if car=='gm':\n",
    "        print(car.upper())\n",
    "    else:\n",
    "        print(car.title())"
   ]
  },
  {
   "cell_type": "markdown",
   "id": "4b7e3a19",
   "metadata": {},
   "source": [
    "2\n"
   ]
  },
  {
   "cell_type": "code",
   "execution_count": 19,
   "id": "a3647af0",
   "metadata": {},
   "outputs": [
    {
     "name": "stdout",
     "output_type": "stream",
     "text": [
      "Toyota\n",
      "Mazda\n",
      "Hyundai\n",
      "GM\n",
      "Kia\n"
     ]
    }
   ],
   "source": [
    "cars = ['toyota', 'mazda', 'hyundai', 'gm', 'kia']\n",
    "for car in cars:\n",
    "    if car!='gm':\n",
    "        print(car.title())\n",
    "    else:\n",
    "        print(car.upper())"
   ]
  },
  {
   "cell_type": "markdown",
   "id": "e9f33e05",
   "metadata": {},
   "source": [
    "3\n"
   ]
  },
  {
   "cell_type": "code",
   "execution_count": 23,
   "id": "81498bfe",
   "metadata": {},
   "outputs": [
    {
     "name": "stdout",
     "output_type": "stream",
     "text": [
      "Welcome, admin\n"
     ]
    }
   ],
   "source": [
    "login=input(\"Enter your Login: \")\n",
    "if login.lower()==\"admin\":\n",
    "    print(\"Welcome, admin\")\n",
    "else:\n",
    "    print(f\"Welcome, {login.title()}\") "
   ]
  },
  {
   "cell_type": "markdown",
   "id": "8961c990",
   "metadata": {},
   "source": [
    "4"
   ]
  },
  {
   "cell_type": "code",
   "execution_count": 25,
   "id": "32f18e11",
   "metadata": {},
   "outputs": [
    {
     "name": "stdout",
     "output_type": "stream",
     "text": [
      "these two numbers are equal.\n"
     ]
    }
   ],
   "source": [
    "x=int(input(\"write number 1: \"))\n",
    "y=int(input(\"write number 2: \"))\n",
    "if x==y:\n",
    "    print(\"these two numbers are equal.\")"
   ]
  },
  {
   "cell_type": "markdown",
   "id": "6065d6f5",
   "metadata": {},
   "source": [
    "5"
   ]
  },
  {
   "cell_type": "code",
   "execution_count": 26,
   "id": "2ac867ff",
   "metadata": {},
   "outputs": [
    {
     "name": "stdout",
     "output_type": "stream",
     "text": [
      "this number is negative!\n"
     ]
    }
   ],
   "source": [
    "num=int(input(\"write any number: \"))\n",
    "if num>0:\n",
    "    print(\"this number is positive!\")\n",
    "else:\n",
    "    print(\"this number is negative!\")"
   ]
  },
  {
   "cell_type": "markdown",
   "id": "bdb04de5",
   "metadata": {},
   "source": [
    "6\n"
   ]
  },
  {
   "cell_type": "code",
   "execution_count": 30,
   "id": "4b2a8220",
   "metadata": {},
   "outputs": [
    {
     "name": "stdout",
     "output_type": "stream",
     "text": [
      "5.0\n"
     ]
    }
   ],
   "source": [
    "num=int(input(\"write any number: \"))\n",
    "if num>0:\n",
    "    print(num**(1/2))\n",
    "else:\n",
    "    print(\"enter positve number!\")"
   ]
  }
 ],
 "metadata": {
  "kernelspec": {
   "display_name": "Python 3",
   "language": "python",
   "name": "python3"
  },
  "language_info": {
   "codemirror_mode": {
    "name": "ipython",
    "version": 3
   },
   "file_extension": ".py",
   "mimetype": "text/x-python",
   "name": "python",
   "nbconvert_exporter": "python",
   "pygments_lexer": "ipython3",
   "version": "3.13.5"
  }
 },
 "nbformat": 4,
 "nbformat_minor": 5
}

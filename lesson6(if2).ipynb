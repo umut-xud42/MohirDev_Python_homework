{
 "cells": [
  {
   "cell_type": "markdown",
   "id": "63e4a644",
   "metadata": {},
   "source": [
    "1"
   ]
  },
  {
   "cell_type": "code",
   "execution_count": 2,
   "id": "34879072",
   "metadata": {},
   "outputs": [
    {
     "name": "stdout",
     "output_type": "stream",
     "text": [
      "this is not even number!\n"
     ]
    }
   ],
   "source": [
    "message=int(input('Enter any number'))\n",
    "if message%2==0:\n",
    "    print('Thank you!')\n",
    "else:\n",
    "    print('this is not even number!')"
   ]
  },
  {
   "cell_type": "markdown",
   "id": "00634a69",
   "metadata": {},
   "source": [
    "2"
   ]
  },
  {
   "cell_type": "code",
   "execution_count": 3,
   "id": "c66a435d",
   "metadata": {},
   "outputs": [
    {
     "name": "stdout",
     "output_type": "stream",
     "text": [
      "price of ticket is $2\n"
     ]
    }
   ],
   "source": [
    "a=int(input('How old are you: '))\n",
    "if a<4 or a>60:\n",
    "    print('it is free for you!')\n",
    "elif a<18:\n",
    "    print('price of ticket is $1')\n",
    "else:\n",
    "    print('price of ticket is $2')"
   ]
  },
  {
   "cell_type": "markdown",
   "id": "e12bd912",
   "metadata": {},
   "source": [
    "3"
   ]
  },
  {
   "cell_type": "code",
   "execution_count": 5,
   "id": "59f42831",
   "metadata": {},
   "outputs": [
    {
     "name": "stdout",
     "output_type": "stream",
     "text": [
      "222 is higher than 23\n"
     ]
    }
   ],
   "source": [
    "x=int(input('enter number 1: '))\n",
    "y=int(input('enter number 2: '))\n",
    "if x>y:\n",
    "    print(f'{x} is higher than {y}')\n",
    "elif x<y:\n",
    "    print(f'{y} is higher than {x}')\n",
    "else:\n",
    "    print('equal')"
   ]
  },
  {
   "cell_type": "markdown",
   "id": "b2587835",
   "metadata": {},
   "source": [
    "4"
   ]
  },
  {
   "cell_type": "code",
   "execution_count": 10,
   "id": "35356092",
   "metadata": {},
   "outputs": [
    {
     "name": "stdout",
     "output_type": "stream",
     "text": [
      "beef is available.\n",
      "watermelon is available.\n",
      "peer product is out of stock in our store.\n"
     ]
    }
   ],
   "source": [
    "prudocts=['apple', 'milk', 'watermelon', 'beef', 'checken', 'bread', 'soda']\n",
    "bucket=[]\n",
    "for n in range(1,4):\n",
    "    message=input(f'enter product {n}: ')\n",
    "    bucket.append(message)\n",
    "    if message in prudocts:\n",
    "        print(f'{message} is available.')\n",
    "    else:\n",
    "        print(f'{message} product is out of stock in our store.')"
   ]
  },
  {
   "cell_type": "markdown",
   "id": "3f1d3c69",
   "metadata": {},
   "source": [
    "5\n"
   ]
  },
  {
   "cell_type": "code",
   "execution_count": 12,
   "id": "9e7d899d",
   "metadata": {},
   "outputs": [
    {
     "name": "stdout",
     "output_type": "stream",
     "text": [
      "All prudocts you ask are available\n"
     ]
    }
   ],
   "source": [
    "prudocts=['apple', 'milk', 'watermelon', 'beef', 'checken', 'bread', 'soda']\n",
    "\n",
    "on=[]\n",
    "off=[]\n",
    "for n in range(1,4):\n",
    "    message=input(f'enter product {n}: ')\n",
    "    if message in prudocts:\n",
    "        on.append(message)\n",
    "    else:\n",
    "        off.append(message)\n",
    "\n",
    "if len(off)==0:\n",
    "    print('All prudocts you ask are available') \n",
    "else:\n",
    "    print('these products are not available below:')\n",
    "    print(off)"
   ]
  },
  {
   "cell_type": "markdown",
   "id": "187ceed9",
   "metadata": {},
   "source": [
    "6"
   ]
  },
  {
   "cell_type": "code",
   "execution_count": 1,
   "id": "e849945a",
   "metadata": {},
   "outputs": [
    {
     "name": "stdout",
     "output_type": "stream",
     "text": [
      "Welcome, user!\n"
     ]
    }
   ],
   "source": [
    "users=['anvar', 'admin', 'fara', 'golden', 'umut']\n",
    "login=input('enter new login: ')\n",
    "if login in users:\n",
    "    print('this login already exists')\n",
    "else:\n",
    "    print('Welcome, user!')"
   ]
  },
  {
   "cell_type": "markdown",
   "id": "6ec16414",
   "metadata": {},
   "source": [
    "7"
   ]
  },
  {
   "cell_type": "code",
   "execution_count": 2,
   "id": "cd7eeb55",
   "metadata": {},
   "outputs": [
    {
     "name": "stdout",
     "output_type": "stream",
     "text": [
      "2\n",
      "4\n",
      "5\n",
      "10\n"
     ]
    }
   ],
   "source": [
    "i=int(input('Enter an integer number? '))\n",
    "for n in range(2,11):\n",
    "    if i%n==0:\n",
    "        print(n)"
   ]
  }
 ],
 "metadata": {
  "kernelspec": {
   "display_name": "Python 3",
   "language": "python",
   "name": "python3"
  },
  "language_info": {
   "codemirror_mode": {
    "name": "ipython",
    "version": 3
   },
   "file_extension": ".py",
   "mimetype": "text/x-python",
   "name": "python",
   "nbconvert_exporter": "python",
   "pygments_lexer": "ipython3",
   "version": "3.13.5"
  }
 },
 "nbformat": 4,
 "nbformat_minor": 5
}

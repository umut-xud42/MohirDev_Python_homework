{
 "cells": [
  {
   "cell_type": "markdown",
   "id": "edf4f59e",
   "metadata": {},
   "source": [
    "Nesting"
   ]
  },
  {
   "cell_type": "markdown",
   "id": "a2d42b51",
   "metadata": {},
   "source": [
    "1"
   ]
  },
  {
   "cell_type": "code",
   "execution_count": 20,
   "id": "bed8b78e",
   "metadata": {},
   "outputs": [
    {
     "name": "stdout",
     "output_type": "stream",
     "text": [
      "\n",
      "Alisher Navoyi was born in 1441 in Xirot and the nation of Alisher Navoyi is uzbek.\n",
      "\n",
      "\n",
      "William Shakespeare was born in 1564 in Stratford-upon-Avon and the nation of William Shakespeare is eng.\n",
      "\n",
      "\n",
      "Abdulla Qodiriy was born in 1894 in Toshkent and the nation of Abdulla Qodiriy is uzbek.\n",
      "\n",
      "\n",
      "Leo Tolstoy was born in 1828 in Yasnaya Polyana and the nation of Leo Tolstoy is rus.\n",
      "\n"
     ]
    }
   ],
   "source": [
    "Navoyi={\"name\": \"Alisher Navoyi\", \n",
    "        \"nation\": \"uzbek\", \n",
    "        \"birth\": 1441, \n",
    "        \"death\": 1501, \n",
    "        \"city\": \"Xirot\"\n",
    "       }\n",
    "\n",
    "Shakespeare={\"name\": \"William Shakespeare\",\n",
    "             \"nation\": \"eng\", \n",
    "             \"birth\": 1564, \n",
    "             \"death\": 1616, \n",
    "             \"city\": \"Stratford-upon-Avon\"\n",
    "            }\n",
    "\n",
    "Qodiriy={\"name\": \"Abdulla Qodiriy\",\n",
    "         \"nation\": \"uzbek\", \n",
    "         \"birth\": 1894, \n",
    "         \"death\": 1938, \n",
    "         \"city\": \"Toshkent\"\n",
    "        }\n",
    "\n",
    "Tolstoy={\"name\": \"Leo Tolstoy\",\n",
    "         \"nation\": \"rus\", \n",
    "         \"birth\": 1828, \n",
    "         \"death\": 1910, \n",
    "         \"city\": \"Yasnaya Polyana\"\n",
    "        }\n",
    "\n",
    "literature=[Navoyi, Shakespeare, Qodiriy, Tolstoy]\n",
    "\n",
    "for person in literature:\n",
    "    name=person[\"name\"]\n",
    "    birth=person[\"birth\"]\n",
    "    nation=person[\"nation\"]\n",
    "    city=person[\"city\"]\n",
    "    print(f\"\\n{name} was born in {birth} in {city} and the nation of {name} is {nation}.\\n\")\n"
   ]
  },
  {
   "cell_type": "markdown",
   "id": "076f3f74",
   "metadata": {},
   "source": [
    "2"
   ]
  },
  {
   "cell_type": "code",
   "execution_count": 27,
   "id": "8fb20e26",
   "metadata": {},
   "outputs": [
    {
     "name": "stdout",
     "output_type": "stream",
     "text": [
      "\n",
      "The famous poems of Alisher Navoyi:\n",
      "Xamsa\n",
      "Lison ut-Tayr\n",
      "Mahbub ul-Qulub\n",
      "\n",
      "The famous poems of William Shakespeare:\n",
      "Hamlet\n",
      "Romeo va Juletta\n",
      "Makbet\n",
      "\n",
      "The famous poems of Abdulla Qodiriy:\n",
      "O'tkan kunlar\n",
      "Mehrobdan chayon\n",
      "Obid ketmon\n",
      "\n",
      "The famous poems of Leo Tolstoy:\n",
      "Urush va tinchlik\n",
      "Anna Karenina\n",
      "Tirilish\n"
     ]
    }
   ],
   "source": [
    "Navoyi[\"poem\"]= [\"Xamsa\", \"Lison ut-Tayr\", \"Mahbub ul-Qulub\"]\n",
    "Shakespeare[\"poem\"]= [\"Hamlet\", \"Romeo va Juletta\", \"Makbet\"]\n",
    "Qodiriy[\"poem\"]= [\"O'tkan kunlar\", \"Mehrobdan chayon\", \"Obid ketmon\"]\n",
    "Tolstoy[\"poem\"]= [\"Urush va tinchlik\", \"Anna Karenina\", \"Tirilish\"]\n",
    "\n",
    "for person in literature:\n",
    "    name=person[\"name\"]\n",
    "    poem=person[\"poem\"]\n",
    "    print(f\"\\nThe famous poems of {name}:\")\n",
    "    for p in poem:\n",
    "        print(p)"
   ]
  },
  {
   "cell_type": "markdown",
   "id": "b887c038",
   "metadata": {},
   "source": [
    "3"
   ]
  },
  {
   "cell_type": "code",
   "execution_count": 9,
   "id": "d240014c",
   "metadata": {},
   "outputs": [
    {
     "name": "stdout",
     "output_type": "stream",
     "text": [
      "\n",
      "The favourite films of Farruh\n",
      "Terminator\n",
      "Chinnayin express\n",
      "Do'n\n",
      "\n",
      "The favourite films of Asror\n",
      "Krishna\n",
      "Om shanti om\n",
      "Qocshish rejasi\n",
      "\n",
      "The favourite films of Elyorbek\n",
      "Breking bad\n",
      "Game od thrones\n",
      "Money haist\n",
      "\n",
      "The favourite films of Lola\n",
      "Sevgi qahvasi\n",
      "Ishq og'ushida\n",
      "O'jar kelin\n"
     ]
    }
   ],
   "source": [
    "films={\n",
    "       \"Farruh\":[\"Terminator\", \"Chinnayin express\", \"Do'n\"],\n",
    "       \"Asror\":[\"Krishna\", \"Om shanti om\", \"Qocshish rejasi\"],\n",
    "       \"Elyorbek\":[\"Breking bad\", \"Game od thrones\", \"Money haist\"],\n",
    "       \"Lola\": [\"Sevgi qahvasi\", \"Ishq og'ushida\", \"O'jar kelin\"]\n",
    "      }\n",
    "\n",
    "\n",
    "\n",
    "for name, film in films.items():\n",
    "    print(f\"\\nThe favourite films of {name}\")\n",
    "    for f in film:\n",
    "    \n",
    "        print(f)\n",
    "    "
   ]
  },
  {
   "cell_type": "markdown",
   "id": "5aa69f19",
   "metadata": {},
   "source": [
    "4"
   ]
  },
  {
   "cell_type": "code",
   "execution_count": 16,
   "id": "90842c20",
   "metadata": {},
   "outputs": [
    {
     "name": "stdout",
     "output_type": "stream",
     "text": [
      "THE INFORMATION OF WORLD COUNTRIES: \n",
      "\n",
      "UZBEKISTAN:\n",
      "The capital of Uzbekistan is Tashkent,\n",
      "people speak Uzbek language\n",
      "and the population of Uzbekistan is Approx. 35 million.\n",
      "Lastly, the currency is Som\n",
      "\n",
      "USA:\n",
      "The capital of USA is Washington, D.C.,\n",
      "people speak English language\n",
      "and the population of USA is Over 330 million.\n",
      "Lastly, the currency is US Dollar\n",
      "\n",
      "JAPAN:\n",
      "The capital of Japan is Tokyo,\n",
      "people speak Japanese language\n",
      "and the population of Japan is Approx. 125 million.\n",
      "Lastly, the currency is Yen\n",
      "\n",
      "RUSSIA:\n",
      "The capital of Russia is Moscow,\n",
      "people speak Russian language\n",
      "and the population of Russia is Over 145 million.\n",
      "Lastly, the currency is Ruble\n",
      "\n",
      "FRANCE:\n",
      "The capital of France is Paris,\n",
      "people speak French language\n",
      "and the population of France is Approx. 67 million.\n",
      "Lastly, the currency is Euro\n"
     ]
    }
   ],
   "source": [
    "countries = {\n",
    "    \"Uzbekistan\": {\n",
    "        \"capital\": \"Tashkent\",\n",
    "        \"population\": \"Approx. 35 million\",\n",
    "        \"official_language\": \"Uzbek\",\n",
    "        \"currency\": \"Som\",\n",
    "        \"independence_year\": 1991\n",
    "    },\n",
    "    \"USA\": {\n",
    "        \"capital\": \"Washington, D.C.\",\n",
    "        \"population\": \"Over 330 million\",\n",
    "        \"official_language\": \"English\",\n",
    "        \"currency\": \"US Dollar\",\n",
    "        \"independence_year\": 1776\n",
    "    },\n",
    "    \"Japan\": {\n",
    "        \"capital\": \"Tokyo\",\n",
    "        \"population\": \"Approx. 125 million\",\n",
    "        \"official_language\": \"Japanese\",\n",
    "        \"currency\": \"Yen\",\n",
    "        \"independence_year\": None  # Ancient monarchy\n",
    "    },\n",
    "    \"Russia\": {\n",
    "        \"capital\": \"Moscow\",\n",
    "        \"population\": \"Over 145 million\",\n",
    "        \"official_language\": \"Russian\",\n",
    "        \"currency\": \"Ruble\",\n",
    "        \"independence_year\": 1991\n",
    "    },\n",
    "    \"France\": {\n",
    "        \"capital\": \"Paris\",\n",
    "        \"population\": \"Approx. 67 million\",\n",
    "        \"official_language\": \"French\",\n",
    "        \"currency\": \"Euro\",\n",
    "        \"independence_year\": 1789\n",
    "    }\n",
    "}\n",
    "\n",
    "print(\"THE INFORMATION OF WORLD COUNTRIES: \")\n",
    "for country, info in countries.items():\n",
    "    print(f\"\\n{country.upper()}:\")\n",
    "    print(f\"The capital of {country} is {info[\"capital\"]},\\npeople speak {info[\"official_language\"]} language\\nand the population of {country} is {info[\"population\"]}.\\nLastly, the currency is {info[\"currency\"]}\")"
   ]
  },
  {
   "cell_type": "markdown",
   "id": "19d68cf8",
   "metadata": {},
   "source": [
    "5"
   ]
  },
  {
   "cell_type": "code",
   "execution_count": 18,
   "id": "8c72bc26",
   "metadata": {},
   "outputs": [
    {
     "name": "stdout",
     "output_type": "stream",
     "text": [
      "\n",
      "UZBEKISTAN:\n",
      "The capital of Uzbekistan is Tashkent,\n",
      "people speak Uzbek language\n",
      "and the population of Uzbekistan is Approx. 35 million.\n",
      "Lastly, the currency is Som\n"
     ]
    }
   ],
   "source": [
    "countries = {\n",
    "    \"Uzbekistan\": {\n",
    "        \"capital\": \"Tashkent\",\n",
    "        \"population\": \"Approx. 35 million\",\n",
    "        \"official_language\": \"Uzbek\",\n",
    "        \"currency\": \"Som\",\n",
    "        \"independence_year\": 1991\n",
    "    },\n",
    "    \"USA\": {\n",
    "        \"capital\": \"Washington, D.C.\",\n",
    "        \"population\": \"Over 330 million\",\n",
    "        \"official_language\": \"English\",\n",
    "        \"currency\": \"US Dollar\",\n",
    "        \"independence_year\": 1776\n",
    "    },\n",
    "    \"Japan\": {\n",
    "        \"capital\": \"Tokyo\",\n",
    "        \"population\": \"Approx. 125 million\",\n",
    "        \"official_language\": \"Japanese\",\n",
    "        \"currency\": \"Yen\",\n",
    "        \"independence_year\": None  # Ancient monarchy\n",
    "    },\n",
    "    \"Russia\": {\n",
    "        \"capital\": \"Moscow\",\n",
    "        \"population\": \"Over 145 million\",\n",
    "        \"official_language\": \"Russian\",\n",
    "        \"currency\": \"Ruble\",\n",
    "        \"independence_year\": 1991\n",
    "    },\n",
    "    \"France\": {\n",
    "        \"capital\": \"Paris\",\n",
    "        \"population\": \"Approx. 67 million\",\n",
    "        \"official_language\": \"French\",\n",
    "        \"currency\": \"Euro\",\n",
    "        \"independence_year\": 1789\n",
    "    }\n",
    "}\n",
    "\n",
    "txt=input(\"Enter any country: \").lower()\n",
    "\n",
    "for country, info in countries.items():\n",
    "    if txt in country.lower():\n",
    "        print(f\"\\n{country.upper()}:\")\n",
    "        print(f\"The capital of {country} is {info[\"capital\"]},\\npeople speak {info[\"official_language\"]} language\\nand the population of {country} is {info[\"population\"]}.\\nLastly, the currency is {info[\"currency\"]}\")   \n",
    "\n"
   ]
  }
 ],
 "metadata": {
  "kernelspec": {
   "display_name": "Python 3",
   "language": "python",
   "name": "python3"
  },
  "language_info": {
   "codemirror_mode": {
    "name": "ipython",
    "version": 3
   },
   "file_extension": ".py",
   "mimetype": "text/x-python",
   "name": "python",
   "nbconvert_exporter": "python",
   "pygments_lexer": "ipython3",
   "version": "3.13.5"
  }
 },
 "nbformat": 4,
 "nbformat_minor": 5
}

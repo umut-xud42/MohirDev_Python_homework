{
 "cells": [
  {
   "cell_type": "markdown",
   "id": "89353c46",
   "metadata": {},
   "source": [
    "List and function"
   ]
  },
  {
   "cell_type": "markdown",
   "id": "13c81a67",
   "metadata": {},
   "source": [
    "1"
   ]
  },
  {
   "cell_type": "code",
   "execution_count": null,
   "id": "67678208",
   "metadata": {},
   "outputs": [
    {
     "name": "stdout",
     "output_type": "stream",
     "text": [
      "['Barcelona', 'Real', 'Paxtakor', 'Bunyonkor', 'Mancity']\n"
     ]
    }
   ],
   "source": [
    "\n",
    "\n",
    "def capital(clubs):\n",
    "    ls=[]\n",
    "    for club in clubs:\n",
    "        ls.append(club.capitalize())\n",
    "    return ls\n",
    "\n",
    "football_clubs=['barcelona', 'real', 'paxtakor', 'bunyonkor', 'mancity']\n",
    "\n",
    "result=capital(football_clubs)\n",
    "\n",
    "print(result)"
   ]
  },
  {
   "cell_type": "markdown",
   "id": "4de4b0bb",
   "metadata": {},
   "source": [
    "2"
   ]
  },
  {
   "cell_type": "code",
   "execution_count": 1,
   "id": "c06fd36e",
   "metadata": {},
   "outputs": [
    {
     "name": "stdout",
     "output_type": "stream",
     "text": [
      "['Ali', 'Vali', 'Hasan', 'Husan']\n"
     ]
    }
   ],
   "source": [
    "def cap_num(texts):\n",
    "    for i in range(len(texts)):\n",
    "        texts[i]=texts[i].title()   \n",
    "\n",
    "names = ['ali', 'vali', 'hasan', 'husan']\n",
    "cap_num(names)\n",
    "print(names)"
   ]
  },
  {
   "cell_type": "markdown",
   "id": "4d504934",
   "metadata": {},
   "source": [
    "3"
   ]
  },
  {
   "cell_type": "code",
   "execution_count": 12,
   "id": "8434e329",
   "metadata": {},
   "outputs": [
    {
     "name": "stdout",
     "output_type": "stream",
     "text": [
      "['spain', 'uzbekistan', 'france', 'italy']\n",
      "['Spain', 'Uzbekistan', 'France', 'Italy']\n"
     ]
    }
   ],
   "source": [
    "def capital_num(texts):\n",
    "    texts=texts[:]\n",
    "    for a in range(len(texts)):\n",
    "        texts[a]=texts[a].title()\n",
    "    return texts\n",
    "\n",
    "cont=['spain', 'uzbekistan', 'france', 'italy']\n",
    "new_cont=capital_num(cont)\n",
    "\n",
    "print(cont)\n",
    "print(new_cont)\n",
    "\n",
    "\n"
   ]
  },
  {
   "cell_type": "markdown",
   "id": "fe8eafc8",
   "metadata": {},
   "source": [
    "4"
   ]
  },
  {
   "cell_type": "code",
   "execution_count": 21,
   "id": "cc62e46f",
   "metadata": {},
   "outputs": [
    {
     "name": "stdout",
     "output_type": "stream",
     "text": [
      "['ali', 'vali', 'umid', 'sardor']\n",
      "{'Ali': 4, 'Vali': 3, 'Umid': 4, 'Sardor': 3}\n"
     ]
    }
   ],
   "source": [
    "students=['ali', 'vali', 'umid', 'sardor']\n",
    "\n",
    "def grade(names):\n",
    "    names=names[:]\n",
    "    grades={}\n",
    "    for student in names:\n",
    "        a=int(input(f'the grade of {student.title()}: '))\n",
    "        grades[student.title()]=a\n",
    "    return grades\n",
    "\n",
    "x=grade(students)\n",
    "print(students)\n",
    "print(x)\n",
    "\n"
   ]
  }
 ],
 "metadata": {
  "kernelspec": {
   "display_name": "Python 3",
   "language": "python",
   "name": "python3"
  },
  "language_info": {
   "codemirror_mode": {
    "name": "ipython",
    "version": 3
   },
   "file_extension": ".py",
   "mimetype": "text/x-python",
   "name": "python",
   "nbconvert_exporter": "python",
   "pygments_lexer": "ipython3",
   "version": "3.13.5"
  }
 },
 "nbformat": 4,
 "nbformat_minor": 5
}

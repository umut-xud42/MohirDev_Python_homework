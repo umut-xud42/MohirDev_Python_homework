{
 "cells": [
  {
   "cell_type": "markdown",
   "id": "e244bfac",
   "metadata": {},
   "source": [
    "1"
   ]
  },
  {
   "cell_type": "code",
   "execution_count": 6,
   "id": "aca4bf6e",
   "metadata": {},
   "outputs": [
    {
     "name": "stdout",
     "output_type": "stream",
     "text": [
      "boolen ---- True or False\n",
      "dictionary ---- lug'at\n",
      "float ---- kasr son\n",
      "if ---- agar\n",
      "int ---- butun son\n",
      "list ---- ro'yxat\n",
      "set ---- to'plam\n",
      "tuple ---- o'zgarmas qiymat\n"
     ]
    }
   ],
   "source": [
    "python={\"if\": \"agar\",\n",
    "        \"int\": \"butun son\",\n",
    "        \"float\": \"kasr son\",\n",
    "        \"list\": \"ro'yxat\",\n",
    "        \"tuple\": \"o'zgarmas qiymat\",\n",
    "        \"dictionary\": \"lug'at\",\n",
    "        \"boolen\": \"True or False\",\n",
    "        \"set\": \"to'plam\"\n",
    "       }\n",
    "\n",
    "for a,b in sorted(python.items()):\n",
    "    print(f\"{a} ---- {b}\")\n"
   ]
  },
  {
   "cell_type": "markdown",
   "id": "55b73f20",
   "metadata": {},
   "source": [
    "2"
   ]
  },
  {
   "cell_type": "code",
   "execution_count": 14,
   "id": "38a1e14b",
   "metadata": {},
   "outputs": [
    {
     "name": "stdout",
     "output_type": "stream",
     "text": [
      "Countries:\n",
      "Argentina\n",
      "Franac\n",
      "Italy\n",
      "Shwitzerland\n",
      "Spain\n",
      "Uzbekistan\n",
      "\n",
      "Capitals:\n",
      "Buenos Aires\n",
      "Paris\n",
      "Rim\n",
      "Bern\n",
      "Madrid\n",
      "Tashkent\n"
     ]
    }
   ],
   "source": [
    "countries={\n",
    "    \"Uzbekistan\": \"Tashkent\",\n",
    "    \"Spain\": \"Madrid\",\n",
    "    \"Franac\": \"Paris\",\n",
    "    \"Italy\": \"Rim\",\n",
    "    \"Argentina\": \"Buenos Aires\",\n",
    "    \"Shwitzerland\": \"Bern\"\n",
    "    }\n",
    "print(\"Countries:\")\n",
    "for key, value in sorted(countries.items()):\n",
    "    print(key)\n",
    "\n",
    "print(\"\\nCapitals:\")\n",
    "for key, value in sorted(countries.items()):\n",
    "    print(value)\n",
    "    "
   ]
  },
  {
   "cell_type": "markdown",
   "id": "cba8d3de",
   "metadata": {},
   "source": [
    "3"
   ]
  },
  {
   "cell_type": "code",
   "execution_count": 41,
   "id": "150b1b6e",
   "metadata": {},
   "outputs": [
    {
     "name": "stdout",
     "output_type": "stream",
     "text": [
      "The capital of CANADA is OTTAWA\n"
     ]
    }
   ],
   "source": [
    "countries_capitals = {\n",
    "    \"France\": \"Paris\",\n",
    "    \"Germany\": \"Berlin\",\n",
    "    \"Italy\": \"Rome\",\n",
    "    \"Spain\": \"Madrid\",\n",
    "    \"United Kingdom\": \"London\",\n",
    "    \"Japan\": \"Tokyo\",\n",
    "    \"United States\": \"Washington D.C.\",\n",
    "    \"Canada\": \"Ottawa\",\n",
    "    \"Australia\": \"Canberra\",\n",
    "    \"Brazil\": \"Brasília\"\n",
    "    }\n",
    "\n",
    "country=input(\"enter any country: \").title()\n",
    "\n",
    "if country in countries_capitals:\n",
    "    capital=countries_capitals.get(country)\n",
    "    print(f\"The capital of {country.upper()} is {capital.upper()}\")\n",
    "else:\n",
    "    print(\"this country doesn't exists !\")\n",
    "\n",
    "\n",
    " "
   ]
  },
  {
   "cell_type": "markdown",
   "id": "055e133c",
   "metadata": {},
   "source": [
    "4"
   ]
  },
  {
   "cell_type": "code",
   "execution_count": 48,
   "id": "e20ccda3",
   "metadata": {},
   "outputs": [
    {
     "name": "stdout",
     "output_type": "stream",
     "text": [
      "the price of osh is 25000.\n",
      "the price of shashlik is 15000.\n",
      "the price of salat is 12000.\n"
     ]
    }
   ],
   "source": [
    "orders = {\n",
    "    \"osh\": 25000,\n",
    "    \"manti\": 18000,\n",
    "    \"shashlik\": 15000,\n",
    "    \"lag'mon\": 22000,\n",
    "    \"somsa\": 8000,\n",
    "    \"chuchvara\": 16000,\n",
    "    \"sho'rva\": 20000,\n",
    "    \"qozon kabob\": 30000,\n",
    "    \"salat\": 12000,\n",
    "    \"non\": 3000\n",
    "}\n",
    "\n",
    "\n",
    "\n",
    "first=input(\"What do you order: \").lower()\n",
    "second=input(\"What do you order for second one: \").lower()\n",
    "third=input(\"What do you order for third one : \").lower()\n",
    "num=[first,second,third]\n",
    "for n in num:\n",
    "    if n in orders:\n",
    "        price=orders.get(n)\n",
    "        print(f\"the price of {n} is {price}.\")\n",
    "    else:\n",
    "        print(f\"{n} doesn't exist!!! \" )    "
   ]
  }
 ],
 "metadata": {
  "kernelspec": {
   "display_name": "Python 3",
   "language": "python",
   "name": "python3"
  },
  "language_info": {
   "codemirror_mode": {
    "name": "ipython",
    "version": 3
   },
   "file_extension": ".py",
   "mimetype": "text/x-python",
   "name": "python",
   "nbconvert_exporter": "python",
   "pygments_lexer": "ipython3",
   "version": "3.13.5"
  }
 },
 "nbformat": 4,
 "nbformat_minor": 5
}

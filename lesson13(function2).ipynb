{
 "cells": [
  {
   "cell_type": "markdown",
   "id": "e41b2ee1",
   "metadata": {},
   "source": [
    "1"
   ]
  },
  {
   "cell_type": "code",
   "execution_count": 6,
   "id": "86dad1d7",
   "metadata": {},
   "outputs": [
    {
     "name": "stdout",
     "output_type": "stream",
     "text": [
      "Enter date about customer: \n",
      "Customers:\n",
      "Asror Tillayev, Age is 22, phone_number is 919127923\n",
      "Farrux Yuldashev, Age is 23, phone_number is 942394959\n"
     ]
    }
   ],
   "source": [
    "from datetime import datetime\n",
    "\n",
    "def cust_info(f_name, l_name, b_year, country, email=None, tel=None):\n",
    "    \"\"\"THE INFORMATION ABOUT CUSTOMER\"\"\"\n",
    "    customer={\n",
    "        'f_name': f_name,\n",
    "        'l_name': l_name,\n",
    "        'b_year': b_year,\n",
    "        'country': country,\n",
    "        'email': email,\n",
    "        'tel': tel\n",
    "    }\n",
    "    \n",
    "    return customer\n",
    "\n",
    "print(\"Enter date about customer: \")\n",
    "customers=[]\n",
    "while True:\n",
    "    f_name=input(\"name: \")\n",
    "    l_name=input(\"last name: \")\n",
    "    b_year=int(input(\"birth year: \"))\n",
    "    country=input(\"country: \")\n",
    "    email=input(\"email: \")\n",
    "    tel=input(\"phone number: \")\n",
    "    customers.append(cust_info(f_name, l_name, b_year, country, email, tel))\n",
    "    response=input(\"Will you cantinue (yes/no):\")\n",
    "    if response.lower()!=\"yes\":\n",
    "        break\n",
    "\n",
    "print(\"Customers:\")\n",
    "for customer in customers:\n",
    "    print(f\"{customer['f_name'].title()} {customer['l_name'].title()},\"\n",
    "          f\" Age is {datetime.now().year-customer['b_year']}, phone_number is {customer['tel']}\")\n"
   ]
  },
  {
   "cell_type": "markdown",
   "id": "09bd45c0",
   "metadata": {},
   "source": [
    "2"
   ]
  },
  {
   "cell_type": "code",
   "execution_count": 9,
   "id": "b147afb2",
   "metadata": {},
   "outputs": [
    {
     "name": "stdout",
     "output_type": "stream",
     "text": [
      "2 is the highest number!\n"
     ]
    }
   ],
   "source": [
    "def high(x, y, z):\n",
    "    if x>=y and x>=z:\n",
    "        print(f\"{x} is the highest number!\")\n",
    "    elif x<=y and y>=z:\n",
    "        print(f\"{y} is the highest number!\")\n",
    "    else:\n",
    "        print(f\"{c} is the highest number!\")\n",
    "\n",
    "high(2,2,2)"
   ]
  },
  {
   "cell_type": "markdown",
   "id": "4a7ccaef",
   "metadata": {},
   "source": [
    "3"
   ]
  },
  {
   "cell_type": "code",
   "execution_count": 10,
   "id": "437b2bf0",
   "metadata": {},
   "outputs": [
    {
     "data": {
      "text/plain": [
       "23"
      ]
     },
     "execution_count": 10,
     "metadata": {},
     "output_type": "execute_result"
    }
   ],
   "source": [
    "def max_of_three(a,b,c):\n",
    "    return max(a,b,c)\n",
    "\n",
    "max_of_three(12,23,12)"
   ]
  },
  {
   "cell_type": "markdown",
   "id": "632e75c0",
   "metadata": {},
   "source": [
    "3"
   ]
  },
  {
   "cell_type": "code",
   "execution_count": 13,
   "id": "ec05f9b8",
   "metadata": {},
   "outputs": [
    {
     "data": {
      "text/plain": [
       "{'radius': 4, 'diameter': 8, 'perimeter': 25.12, 'area': 50.24}"
      ]
     },
     "execution_count": 13,
     "metadata": {},
     "output_type": "execute_result"
    }
   ],
   "source": [
    "# This is a function that returns the radius, diameter, perimeter, \n",
    "# and area of ​​a circle in dictionary form.\n",
    "pi=3.14\n",
    "def radius(r):\n",
    "    circle={\n",
    "        'radius': r,\n",
    "        'diameter': 2*r,\n",
    "        'perimeter':2*pi*r,\n",
    "        'area': pi*r**2\n",
    "    }\n",
    "    return circle\n",
    "\n",
    "radius(4)"
   ]
  },
  {
   "cell_type": "markdown",
   "id": "492e35d5",
   "metadata": {},
   "source": [
    "4"
   ]
  },
  {
   "cell_type": "code",
   "execution_count": 15,
   "id": "728c0fed",
   "metadata": {},
   "outputs": [
    {
     "data": {
      "text/plain": [
       "[2, 3, 5, 7, 11, 13, 17, 19]"
      ]
     },
     "execution_count": 15,
     "metadata": {},
     "output_type": "execute_result"
    }
   ],
   "source": [
    "# A function that returns prime numbers in a given range!\n",
    "def primeNum(min, max):\n",
    "    prime_numbers = []    \n",
    "    for n in range(min,max+1):\n",
    "        prime = True\n",
    "        if n==1:\n",
    "            prime = False\n",
    "        elif n==2:\n",
    "            prime = True\n",
    "        else:\n",
    "            for x in range(2,n):\n",
    "                if n%x==0:\n",
    "                    prime = False\n",
    "        if prime:\n",
    "            prime_numbers.append(n)\n",
    "                \n",
    "    return prime_numbers\n",
    "\n",
    "primeNum(1,20)"
   ]
  },
  {
   "cell_type": "markdown",
   "id": "869378fa",
   "metadata": {},
   "source": [
    "5"
   ]
  },
  {
   "cell_type": "code",
   "execution_count": 18,
   "id": "a02b010a",
   "metadata": {},
   "outputs": [
    {
     "name": "stdout",
     "output_type": "stream",
     "text": [
      "[1, 1, 2, 3, 5, 8, 13, 21, 34, 55, 89, 144]\n"
     ]
    }
   ],
   "source": [
    "def fibonacci(n):\n",
    "    numbers = []\n",
    "    for x in range(n):\n",
    "        if x==0 or x==1:\n",
    "            numbers.append(1)        \n",
    "        else:\n",
    "            numbers.append(numbers[x-1]+numbers[x-2])\n",
    "    return numbers\n",
    "\n",
    "print(fibonacci(12))"
   ]
  }
 ],
 "metadata": {
  "kernelspec": {
   "display_name": "Python 3",
   "language": "python",
   "name": "python3"
  },
  "language_info": {
   "codemirror_mode": {
    "name": "ipython",
    "version": 3
   },
   "file_extension": ".py",
   "mimetype": "text/x-python",
   "name": "python",
   "nbconvert_exporter": "python",
   "pygments_lexer": "ipython3",
   "version": "3.13.5"
  }
 },
 "nbformat": 4,
 "nbformat_minor": 5
}

{
 "cells": [
  {
   "cell_type": "markdown",
   "id": "75959a9b",
   "metadata": {},
   "source": [
    "*args and **kwargs"
   ]
  },
  {
   "cell_type": "markdown",
   "id": "63af89ce",
   "metadata": {},
   "source": [
    "1"
   ]
  },
  {
   "cell_type": "code",
   "execution_count": 8,
   "id": "29b46298",
   "metadata": {},
   "outputs": [
    {
     "name": "stdout",
     "output_type": "stream",
     "text": [
      "80\n"
     ]
    }
   ],
   "source": [
    "def multiply(*nums):\n",
    "    a=1\n",
    "    for num in nums:\n",
    "        a=a*num\n",
    "    return a\n",
    "\n",
    "print(multiply(2,2,4,1,1,5))\n",
    "    \n"
   ]
  },
  {
   "cell_type": "markdown",
   "id": "1025be56",
   "metadata": {},
   "source": [
    "2"
   ]
  },
  {
   "cell_type": "code",
   "execution_count": 24,
   "id": "a7099215",
   "metadata": {},
   "outputs": [
    {
     "data": {
      "text/plain": [
       "132"
      ]
     },
     "execution_count": 24,
     "metadata": {},
     "output_type": "execute_result"
    }
   ],
   "source": [
    "def add(x, y, *nums):\n",
    "    return x+y+sum(nums)\n",
    "\n",
    "add(2,4,4,122)"
   ]
  },
  {
   "cell_type": "markdown",
   "id": "bf07d705",
   "metadata": {},
   "source": [
    "3"
   ]
  },
  {
   "cell_type": "code",
   "execution_count": 10,
   "id": "47592e83",
   "metadata": {},
   "outputs": [
    {
     "name": "stdout",
     "output_type": "stream",
     "text": [
      "{'age': 20, 'major': 'economy', 'hobby': 'football', 'name': 'ali', 'surname': 'valiyev'}\n"
     ]
    }
   ],
   "source": [
    "def student(name, surname, **data):\n",
    "    data['name']=name\n",
    "    data['surname']=surname\n",
    "    return data\n",
    "\n",
    "Ali=student('ali', 'valiyev', age=20, major='economy', hobby='football')\n",
    "print(Ali)\n"
   ]
  }
 ],
 "metadata": {
  "kernelspec": {
   "display_name": "Python 3",
   "language": "python",
   "name": "python3"
  },
  "language_info": {
   "codemirror_mode": {
    "name": "ipython",
    "version": 3
   },
   "file_extension": ".py",
   "mimetype": "text/x-python",
   "name": "python",
   "nbconvert_exporter": "python",
   "pygments_lexer": "ipython3",
   "version": "3.13.5"
  }
 },
 "nbformat": 4,
 "nbformat_minor": 5
}

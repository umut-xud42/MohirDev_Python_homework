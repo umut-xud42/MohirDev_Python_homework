{
 "cells": [
  {
   "cell_type": "markdown",
   "id": "27182675",
   "metadata": {},
   "source": [
    "Function\n"
   ]
  },
  {
   "cell_type": "markdown",
   "id": "9049213f",
   "metadata": {},
   "source": [
    "1"
   ]
  },
  {
   "cell_type": "code",
   "execution_count": 1,
   "id": "eaf28c29",
   "metadata": {},
   "outputs": [
    {
     "name": "stdout",
     "output_type": "stream",
     "text": [
      "Umid was born in 2004!\n"
     ]
    }
   ],
   "source": [
    "name=input(\"What is your name: \")\n",
    "age=int(input(\"How old are you: \"))\n",
    "\n",
    "def birth(age):\n",
    "    print (f\"{name} was born in {2025-age}!\")\n",
    "\n",
    "birth(age)\n"
   ]
  },
  {
   "cell_type": "markdown",
   "id": "a34b0954",
   "metadata": {},
   "source": [
    "2"
   ]
  },
  {
   "cell_type": "code",
   "execution_count": 3,
   "id": "e341cd5d",
   "metadata": {},
   "outputs": [
    {
     "name": "stdout",
     "output_type": "stream",
     "text": [
      "Akmal is 29 years old.\n"
     ]
    }
   ],
   "source": [
    "def age(name, birth_year):\n",
    "    print(f\"{name} is {2025-birth_year} years old.\")\n",
    "\n",
    "age(\"Akmal\", 1996)"
   ]
  },
  {
   "cell_type": "markdown",
   "id": "d8ff3f56",
   "metadata": {},
   "source": [
    "3"
   ]
  },
  {
   "cell_type": "code",
   "execution_count": 10,
   "id": "4410506a",
   "metadata": {},
   "outputs": [
    {
     "name": "stdout",
     "output_type": "stream",
     "text": [
      "the square of 4.5 is 20.25\n",
      "the cube of 4.5 is 91.125\n"
     ]
    }
   ],
   "source": [
    "num=float(input(\"enter any number: \"))\n",
    "\n",
    "def sc(num):\n",
    "    print(f\"the square of {num} is {num**2}\")\n",
    "    print(f\"the cube of {num} is {num**3}\")\n",
    "\n",
    "sc(num)\n",
    "\n"
   ]
  },
  {
   "cell_type": "markdown",
   "id": "8e1b75eb",
   "metadata": {},
   "source": [
    "4\n"
   ]
  },
  {
   "cell_type": "code",
   "execution_count": 13,
   "id": "e3e9d119",
   "metadata": {},
   "outputs": [
    {
     "name": "stdout",
     "output_type": "stream",
     "text": [
      "A function that outputs to the console whether an input number is even or odd\n",
      "8 is even number!\n"
     ]
    }
   ],
   "source": [
    "def ev_o(num):\n",
    "    print(\"\"\"A function that outputs to the console whether an input number is even or odd\"\"\")\n",
    "    if num%2==0:\n",
    "        print(f\"{num} is even number!\")\n",
    "    else:\n",
    "        print(f\"{num} is odd number!\")\n",
    "\n",
    "ev_o(8)\n"
   ]
  },
  {
   "cell_type": "markdown",
   "id": "53b85444",
   "metadata": {},
   "source": [
    "5"
   ]
  },
  {
   "cell_type": "code",
   "execution_count": 16,
   "id": "3a0a0c46",
   "metadata": {},
   "outputs": [
    {
     "name": "stdout",
     "output_type": "stream",
     "text": [
      "these two numbers are equal!\n"
     ]
    }
   ],
   "source": [
    "def higher(num1, num2):\n",
    "    \"\"\"Function that compares two numbers\"\"\"\n",
    "    if num1>num2:\n",
    "        print(f\"{num1} > {num2}\")\n",
    "    elif num1<num2:\n",
    "        print(f\"{num1} < {num2}\")\n",
    "    else:\n",
    "        print(\"these two numbers are equal!\")\n",
    "\n",
    "higher(1, 1)"
   ]
  },
  {
   "cell_type": "markdown",
   "id": "7b17f956",
   "metadata": {},
   "source": [
    "6"
   ]
  },
  {
   "cell_type": "code",
   "execution_count": 21,
   "id": "21ca953b",
   "metadata": {},
   "outputs": [
    {
     "name": "stdout",
     "output_type": "stream",
     "text": [
      "The 3-power of 2 is 8\n",
      "The 9-power of 3 is 19683\n",
      "The 3-power of 10 is 1000\n"
     ]
    }
   ],
   "source": [
    "def power(x, y):\n",
    "    print(f\"The {y}-power of {x} is {x**y}\") \n",
    "\n",
    "power(2, 3)\n",
    "power(3,9)\n",
    "power(10,3)"
   ]
  },
  {
   "cell_type": "markdown",
   "id": "5ed0461a",
   "metadata": {},
   "source": [
    "7"
   ]
  },
  {
   "cell_type": "code",
   "execution_count": 23,
   "id": "ef6b9b2b",
   "metadata": {},
   "outputs": [
    {
     "name": "stdout",
     "output_type": "stream",
     "text": [
      "The 4-power of 5 is 625\n",
      "The 2-power of 4 is 16\n",
      "The 2-power of 3 is 9\n"
     ]
    }
   ],
   "source": [
    "def power(x, y=2):\n",
    "    print(f\"The {y}-power of {x} is {x**y}\")\n",
    "\n",
    "power(5,4)\n",
    "power(4)\n",
    "power(3)\n",
    " "
   ]
  },
  {
   "cell_type": "markdown",
   "id": "bf2d7b7c",
   "metadata": {},
   "source": [
    "8"
   ]
  },
  {
   "cell_type": "code",
   "execution_count": 42,
   "id": "c002e7a3",
   "metadata": {},
   "outputs": [
    {
     "name": "stdout",
     "output_type": "stream",
     "text": [
      "10 is divisible by 2 without remainder\n",
      "10 is divisible by 5 without remainder\n",
      "10 is divisible by 10 without remainder\n"
     ]
    }
   ],
   "source": [
    "def fun(num):\n",
    "    for n in range(2,11):\n",
    "        if num%n==0:\n",
    "            print(f\"{num} is divisible by {n} without remainder\")\n",
    "\n",
    "fun(10)"
   ]
  }
 ],
 "metadata": {
  "kernelspec": {
   "display_name": "Python 3",
   "language": "python",
   "name": "python3"
  },
  "language_info": {
   "codemirror_mode": {
    "name": "ipython",
    "version": 3
   },
   "file_extension": ".py",
   "mimetype": "text/x-python",
   "name": "python",
   "nbconvert_exporter": "python",
   "pygments_lexer": "ipython3",
   "version": "3.13.5"
  }
 },
 "nbformat": 4,
 "nbformat_minor": 5
}

{
 "cells": [
  {
   "cell_type": "markdown",
   "id": "192ebb69",
   "metadata": {},
   "source": [
    "For sikli\n"
   ]
  },
  {
   "cell_type": "markdown",
   "id": "e91b9c28",
   "metadata": {},
   "source": [
    "1"
   ]
  },
  {
   "cell_type": "code",
   "execution_count": 3,
   "id": "4a219926",
   "metadata": {},
   "outputs": [
    {
     "name": "stdout",
     "output_type": "stream",
     "text": [
      "Good morning mr.Umid\n",
      "Good morning mr.Bunyod\n",
      "Good morning mr.Farrux\n",
      "Good morning mr.Asror\n",
      "Good morning mr.John\n",
      "code repeated 5 times\n"
     ]
    }
   ],
   "source": [
    "names=['Umid','Bunyod','Farrux', 'Asror', 'John']\n",
    "for name in names:\n",
    "    print(f'Good morning mr.{name}')\n",
    "\n",
    "print(f\"code repeated {len(names)} times\")"
   ]
  },
  {
   "cell_type": "markdown",
   "id": "91acaa41",
   "metadata": {},
   "source": [
    "2"
   ]
  },
  {
   "cell_type": "code",
   "execution_count": 7,
   "id": "100cf6cf",
   "metadata": {},
   "outputs": [
    {
     "name": "stdout",
     "output_type": "stream",
     "text": [
      "1331\n",
      "2197\n",
      "3375\n",
      "4913\n",
      "6859\n",
      "9261\n",
      "12167\n",
      "15625\n",
      "19683\n",
      "24389\n",
      "29791\n",
      "35937\n",
      "42875\n",
      "50653\n",
      "59319\n",
      "68921\n",
      "79507\n",
      "91125\n",
      "103823\n",
      "117649\n",
      "132651\n",
      "148877\n",
      "166375\n",
      "185193\n",
      "205379\n",
      "226981\n",
      "250047\n",
      "274625\n",
      "300763\n",
      "328509\n",
      "357911\n",
      "389017\n",
      "421875\n",
      "456533\n",
      "493039\n",
      "531441\n",
      "571787\n",
      "614125\n",
      "658503\n",
      "704969\n",
      "753571\n",
      "804357\n",
      "857375\n",
      "912673\n",
      "970299\n"
     ]
    }
   ],
   "source": [
    "odd_num=list(range(11,100,2))\n",
    "for odd in odd_num:\n",
    "    print(odd**3)\n"
   ]
  },
  {
   "cell_type": "markdown",
   "id": "9364203e",
   "metadata": {},
   "source": [
    "3"
   ]
  },
  {
   "cell_type": "code",
   "execution_count": 12,
   "id": "44200fa7",
   "metadata": {},
   "outputs": [
    {
     "name": "stdout",
     "output_type": "stream",
     "text": [
      "MY TOP 4 FILMS:\n"
     ]
    },
    {
     "data": {
      "text/plain": [
       "['Game of thrones', \"King of Lords'ring\", 'Breaking bad', 'Spiderman']"
      ]
     },
     "execution_count": 12,
     "metadata": {},
     "output_type": "execute_result"
    }
   ],
   "source": [
    "films=[]\n",
    "print(\"MY TOP 4 FILMS:\")\n",
    "for n in range(1,5):\n",
    "    f=input(f\"your favorite film {n}: \")\n",
    "    films.append(f)\n",
    "\n",
    "films\n",
    "\n",
    "\n",
    "\n"
   ]
  },
  {
   "cell_type": "markdown",
   "id": "58687692",
   "metadata": {},
   "source": [
    "4"
   ]
  },
  {
   "cell_type": "code",
   "execution_count": 17,
   "id": "f05ae9a3",
   "metadata": {},
   "outputs": [
    {
     "name": "stdout",
     "output_type": "stream",
     "text": [
      "Today's new friends:\n"
     ]
    },
    {
     "data": {
      "text/plain": [
       "['Asror', 'Farrux', 'Lola', 'Gulasal', 'Bunyod']"
      ]
     },
     "execution_count": 17,
     "metadata": {},
     "output_type": "execute_result"
    }
   ],
   "source": [
    "names=[]\n",
    "question=int(input(\"How many people did you meet today: \"))\n",
    "for n in range(question):\n",
    "    a=input(f'name of person {1+n}: ')\n",
    "    names.append(a)\n",
    "\n",
    "print(\"\"\"Today's new friends:\"\"\")\n",
    "names\n"
   ]
  }
 ],
 "metadata": {
  "kernelspec": {
   "display_name": "Python 3",
   "language": "python",
   "name": "python3"
  },
  "language_info": {
   "codemirror_mode": {
    "name": "ipython",
    "version": 3
   },
   "file_extension": ".py",
   "mimetype": "text/x-python",
   "name": "python",
   "nbconvert_exporter": "python",
   "pygments_lexer": "ipython3",
   "version": "3.13.5"
  }
 },
 "nbformat": 4,
 "nbformat_minor": 5
}
